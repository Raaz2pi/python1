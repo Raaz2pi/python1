{
 "cells": [
  {
   "cell_type": "code",
   "execution_count": 1,
   "id": "b2445671-47b9-43f4-bceb-4a29a9d4351f",
   "metadata": {},
   "outputs": [],
   "source": [
    "#1\n",
    "l=[]"
   ]
  },
  {
   "cell_type": "code",
   "execution_count": 2,
   "id": "1c8c42d6-1d65-461e-b2bd-bf7d1bc7cf1f",
   "metadata": {},
   "outputs": [],
   "source": [
    "#2\n",
    "k=[1,2,3,4]\n",
    "k.append(56)\n"
   ]
  },
  {
   "cell_type": "code",
   "execution_count": 3,
   "id": "e45ac01d-6f8e-468f-bc9c-bc36067bb19c",
   "metadata": {},
   "outputs": [
    {
     "data": {
      "text/plain": [
       "[1, 2, 3, 4, 56]"
      ]
     },
     "execution_count": 3,
     "metadata": {},
     "output_type": "execute_result"
    }
   ],
   "source": [
    "k"
   ]
  },
  {
   "cell_type": "code",
   "execution_count": 4,
   "id": "c8da1f37-864d-4381-89b0-7924b544e3ae",
   "metadata": {},
   "outputs": [
    {
     "data": {
      "text/plain": [
       "56"
      ]
     },
     "execution_count": 4,
     "metadata": {},
     "output_type": "execute_result"
    }
   ],
   "source": [
    "#3\n",
    "k[4]"
   ]
  },
  {
   "cell_type": "code",
   "execution_count": 5,
   "id": "3ca49a6c-8947-4bf8-a5a7-cf5a31c6c7d7",
   "metadata": {},
   "outputs": [
    {
     "data": {
      "text/plain": [
       "[56, 4, 3, 2, 1]"
      ]
     },
     "execution_count": 5,
     "metadata": {},
     "output_type": "execute_result"
    }
   ],
   "source": [
    "#4\n",
    "k[::-1]"
   ]
  },
  {
   "cell_type": "code",
   "execution_count": 6,
   "id": "e31f76c3-7933-4106-a4b7-34fc57db0ac3",
   "metadata": {},
   "outputs": [],
   "source": [
    "#5\n",
    "k.sort()"
   ]
  },
  {
   "cell_type": "code",
   "execution_count": 7,
   "id": "96725f76-e2a5-4e69-a2d6-9ae10ea0f03f",
   "metadata": {},
   "outputs": [
    {
     "data": {
      "text/plain": [
       "[1, 2, 3, 4, 56]"
      ]
     },
     "execution_count": 7,
     "metadata": {},
     "output_type": "execute_result"
    }
   ],
   "source": [
    "k"
   ]
  },
  {
   "cell_type": "code",
   "execution_count": 8,
   "id": "bc062516-245b-44d8-83f1-4da0e5f9841a",
   "metadata": {},
   "outputs": [],
   "source": [
    "k.sort(reverse=True)"
   ]
  },
  {
   "cell_type": "code",
   "execution_count": 9,
   "id": "77554682-ef02-4dc9-9557-f1894b185364",
   "metadata": {},
   "outputs": [
    {
     "data": {
      "text/plain": [
       "[56, 4, 3, 2, 1]"
      ]
     },
     "execution_count": 9,
     "metadata": {},
     "output_type": "execute_result"
    }
   ],
   "source": [
    "k"
   ]
  },
  {
   "cell_type": "code",
   "execution_count": 10,
   "id": "c11449d7-c960-4ac5-a7e9-8ac073b3817b",
   "metadata": {},
   "outputs": [
    {
     "data": {
      "text/plain": [
       "'fast and furious'"
      ]
     },
     "execution_count": 10,
     "metadata": {},
     "output_type": "execute_result"
    }
   ],
   "source": [
    "#6\n",
    "fav_movie=[\"3 idiots\",\"fast and furious\",\"gangs of wasepur\"]\n",
    "fav_movie[1]\n"
   ]
  },
  {
   "cell_type": "code",
   "execution_count": 12,
   "id": "ef09c051-397e-4860-b676-18806509d396",
   "metadata": {},
   "outputs": [],
   "source": [
    "animal=[\"dog\",\"cat\",\"cow\",\"tiger\",\"rat\"]\n",
    "animal.append(\"monkey\")\n"
   ]
  },
  {
   "cell_type": "code",
   "execution_count": 13,
   "id": "0898fe11-8d7c-486f-bcc2-7f02554eb92f",
   "metadata": {},
   "outputs": [
    {
     "data": {
      "text/plain": [
       "['dog', 'cat', 'cow', 'tiger', 'rat', 'monkey']"
      ]
     },
     "execution_count": 13,
     "metadata": {},
     "output_type": "execute_result"
    }
   ],
   "source": [
    "animal"
   ]
  },
  {
   "cell_type": "code",
   "execution_count": 14,
   "id": "29957c4c-6e91-4252-a164-dd22f7975805",
   "metadata": {},
   "outputs": [],
   "source": [
    "c=[\"delhi\",\"durgapur\",\"kolkata\",\"pune\",\"mumbai\"]\n"
   ]
  },
  {
   "cell_type": "code",
   "execution_count": 15,
   "id": "5db3f6cf-241e-4d7c-9682-ba65f78c0141",
   "metadata": {},
   "outputs": [
    {
     "data": {
      "text/plain": [
       "0"
      ]
     },
     "execution_count": 15,
     "metadata": {},
     "output_type": "execute_result"
    }
   ],
   "source": [
    "c.index(\"delhi\")"
   ]
  },
  {
   "cell_type": "code",
   "execution_count": null,
   "id": "678c1fb9-b9f9-4817-b25d-293f35554324",
   "metadata": {},
   "outputs": [],
   "source": []
  }
 ],
 "metadata": {
  "kernelspec": {
   "display_name": "Python 3 (ipykernel)",
   "language": "python",
   "name": "python3"
  },
  "language_info": {
   "codemirror_mode": {
    "name": "ipython",
    "version": 3
   },
   "file_extension": ".py",
   "mimetype": "text/x-python",
   "name": "python",
   "nbconvert_exporter": "python",
   "pygments_lexer": "ipython3",
   "version": "3.10.8"
  }
 },
 "nbformat": 4,
 "nbformat_minor": 5
}
