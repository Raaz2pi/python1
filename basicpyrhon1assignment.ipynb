{
 "cells": [
  {
   "cell_type": "code",
   "execution_count": 13,
   "id": "0a24779d-70b9-4516-bfa9-4f7017efb695",
   "metadata": {},
   "outputs": [],
   "source": [
    "                                #1\n",
    "a=2\n",
    "B=3\n",
    "a_b=4\n",
    "_ab=8\n",
    "a=6\n",
    "a2b=6\n"
   ]
  },
  {
   "cell_type": "code",
   "execution_count": 2,
   "id": "3cff3f05-c0a6-4eb6-986c-b6c1c765688a",
   "metadata": {},
   "outputs": [
    {
     "data": {
      "text/plain": [
       "2"
      ]
     },
     "execution_count": 2,
     "metadata": {},
     "output_type": "execute_result"
    }
   ],
   "source": [
    "a"
   ]
  },
  {
   "cell_type": "code",
   "execution_count": 3,
   "id": "62274c7a-c69d-42fa-9221-37b4c92a4431",
   "metadata": {},
   "outputs": [
    {
     "data": {
      "text/plain": [
       "3"
      ]
     },
     "execution_count": 3,
     "metadata": {},
     "output_type": "execute_result"
    }
   ],
   "source": [
    "B"
   ]
  },
  {
   "cell_type": "code",
   "execution_count": 4,
   "id": "70943dd4-8084-442a-becd-40a579ecc0e5",
   "metadata": {},
   "outputs": [
    {
     "data": {
      "text/plain": [
       "4"
      ]
     },
     "execution_count": 4,
     "metadata": {},
     "output_type": "execute_result"
    }
   ],
   "source": [
    "a_b"
   ]
  },
  {
   "cell_type": "code",
   "execution_count": 5,
   "id": "eb21018c-7b01-4855-8a37-a4ae76969d86",
   "metadata": {},
   "outputs": [
    {
     "data": {
      "text/plain": [
       "8"
      ]
     },
     "execution_count": 5,
     "metadata": {},
     "output_type": "execute_result"
    }
   ],
   "source": [
    "_ab"
   ]
  },
  {
   "cell_type": "code",
   "execution_count": 6,
   "id": "2079758e-9c87-403d-8e86-9c3029dc4dad",
   "metadata": {},
   "outputs": [
    {
     "ename": "NameError",
     "evalue": "name '_ab_' is not defined",
     "output_type": "error",
     "traceback": [
      "\u001b[0;31m---------------------------------------------------------------------------\u001b[0m",
      "\u001b[0;31mNameError\u001b[0m                                 Traceback (most recent call last)",
      "Cell \u001b[0;32mIn[6], line 1\u001b[0m\n\u001b[0;32m----> 1\u001b[0m \u001b[43m_ab_\u001b[49m\n",
      "\u001b[0;31mNameError\u001b[0m: name '_ab_' is not defined"
     ]
    }
   ],
   "source": []
  },
  {
   "cell_type": "code",
   "execution_count": 7,
   "id": "d873e71e-12fb-4563-81e5-7cf1faa07b6f",
   "metadata": {},
   "outputs": [
    {
     "ename": "NameError",
     "evalue": "name 'a23' is not defined",
     "output_type": "error",
     "traceback": [
      "\u001b[0;31m---------------------------------------------------------------------------\u001b[0m",
      "\u001b[0;31mNameError\u001b[0m                                 Traceback (most recent call last)",
      "Cell \u001b[0;32mIn[7], line 1\u001b[0m\n\u001b[0;32m----> 1\u001b[0m \u001b[43ma23\u001b[49m\n",
      "\u001b[0;31mNameError\u001b[0m: name 'a23' is not defined"
     ]
    }
   ],
   "source": [
    "a23"
   ]
  },
  {
   "cell_type": "code",
   "execution_count": 8,
   "id": "783f0f29-cef7-444c-bcce-fa300852b272",
   "metadata": {},
   "outputs": [],
   "source": [
    "a_2=5"
   ]
  },
  {
   "cell_type": "code",
   "execution_count": 9,
   "id": "86be1b39-5f90-4e10-9aba-fd628118d9e0",
   "metadata": {},
   "outputs": [
    {
     "data": {
      "text/plain": [
       "5"
      ]
     },
     "execution_count": 9,
     "metadata": {},
     "output_type": "execute_result"
    }
   ],
   "source": [
    "a_2"
   ]
  },
  {
   "cell_type": "code",
   "execution_count": 11,
   "id": "2420fba3-cf37-420d-b5f2-b1106f8a8255",
   "metadata": {},
   "outputs": [
    {
     "data": {
      "text/plain": [
       "6"
      ]
     },
     "execution_count": 11,
     "metadata": {},
     "output_type": "execute_result"
    }
   ],
   "source": [
    "a2b"
   ]
  },
  {
   "cell_type": "code",
   "execution_count": 16,
   "id": "c0c136d3-a90f-45fe-9a8b-ad9d4e9f6435",
   "metadata": {},
   "outputs": [
    {
     "ename": "SyntaxError",
     "evalue": "cannot assign to True (3091963775.py, line 1)",
     "output_type": "error",
     "traceback": [
      "\u001b[0;36m  Cell \u001b[0;32mIn[16], line 1\u001b[0;36m\u001b[0m\n\u001b[0;31m    True=5\u001b[0m\n\u001b[0m    ^\u001b[0m\n\u001b[0;31mSyntaxError\u001b[0m\u001b[0;31m:\u001b[0m cannot assign to True\n"
     ]
    }
   ],
   "source": [
    "                                                   #2\n",
    "True=5\n",
    "if=8\n",
    "#it will give syntax error"
   ]
  },
  {
   "cell_type": "code",
   "execution_count": 15,
   "id": "9e1ef581-17e3-4e47-8fc3-64ca21ae0f4e",
   "metadata": {},
   "outputs": [
    {
     "data": {
      "text/plain": [
       "5"
      ]
     },
     "execution_count": 15,
     "metadata": {},
     "output_type": "execute_result"
    }
   ],
   "source": [
    "true"
   ]
  },
  {
   "cell_type": "code",
   "execution_count": 17,
   "id": "31c99468-58b2-44cc-9e27-c9c23fcf4b98",
   "metadata": {},
   "outputs": [
    {
     "ename": "SyntaxError",
     "evalue": "invalid syntax (90538374.py, line 1)",
     "output_type": "error",
     "traceback": [
      "\u001b[0;36m  Cell \u001b[0;32mIn[17], line 1\u001b[0;36m\u001b[0m\n\u001b[0;31m    if=6\u001b[0m\n\u001b[0m      ^\u001b[0m\n\u001b[0;31mSyntaxError\u001b[0m\u001b[0;31m:\u001b[0m invalid syntax\n"
     ]
    }
   ],
   "source": [
    "if=6"
   ]
  },
  {
   "cell_type": "code",
   "execution_count": 20,
   "id": "72db6062-931d-4433-8b3a-02aa99a1d53d",
   "metadata": {},
   "outputs": [
    {
     "ename": "SyntaxError",
     "evalue": "cannot assign to literal here. Maybe you meant '==' instead of '='? (1303420677.py, line 1)",
     "output_type": "error",
     "traceback": [
      "\u001b[0;36m  Cell \u001b[0;32mIn[20], line 1\u001b[0;36m\u001b[0m\n\u001b[0;31m    \"Raj\"=8\u001b[0m\n\u001b[0m    ^\u001b[0m\n\u001b[0;31mSyntaxError\u001b[0m\u001b[0;31m:\u001b[0m cannot assign to literal here. Maybe you meant '==' instead of '='?\n"
     ]
    }
   ],
   "source": [
    " #3\n",
    "\"Raj\"=8\n",
    "#no it will givesyntax error\n"
   ]
  },
  {
   "cell_type": "code",
   "execution_count": 21,
   "id": "d4dcec31-7326-4e44-98b5-d74a5fe8f6ac",
   "metadata": {},
   "outputs": [],
   "source": [
    "#4\n",
    "_a=5\n",
    "#yes it is possible"
   ]
  },
  {
   "cell_type": "code",
   "execution_count": 22,
   "id": "19953e67-ebd8-4432-95d1-ce47c8a9dc4b",
   "metadata": {},
   "outputs": [
    {
     "data": {
      "text/plain": [
       "5"
      ]
     },
     "execution_count": 22,
     "metadata": {},
     "output_type": "execute_result"
    }
   ],
   "source": [
    "_a"
   ]
  },
  {
   "cell_type": "code",
   "execution_count": 26,
   "id": "10b0c2ed-ce18-48fa-b00b-0c6fd36b538e",
   "metadata": {},
   "outputs": [
    {
     "name": "stdout",
     "output_type": "stream",
     "text": [
      "<class 'int'>\n",
      "<class 'list'>\n"
     ]
    }
   ],
   "source": [
    "#5\n",
    "# python can autometically recognise the type of variable.we can assign many value of x as below\n",
    "x=5\n",
    "print(type(x))\n",
    "x=[1,21,31]\n",
    "print(type(x))"
   ]
  },
  {
   "cell_type": "code",
   "execution_count": null,
   "id": "0b91b430-d43d-47c1-8bba-15946ffbfdfd",
   "metadata": {},
   "outputs": [],
   "source": []
  }
 ],
 "metadata": {
  "kernelspec": {
   "display_name": "Python 3 (ipykernel)",
   "language": "python",
   "name": "python3"
  },
  "language_info": {
   "codemirror_mode": {
    "name": "ipython",
    "version": 3
   },
   "file_extension": ".py",
   "mimetype": "text/x-python",
   "name": "python",
   "nbconvert_exporter": "python",
   "pygments_lexer": "ipython3",
   "version": "3.10.8"
  }
 },
 "nbformat": 4,
 "nbformat_minor": 5
}
