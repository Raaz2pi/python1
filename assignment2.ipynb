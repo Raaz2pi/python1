{
 "cells": [
  {
   "cell_type": "code",
   "execution_count": 1,
   "id": "eb2548a2-9f32-4021-b24e-f72e5c9590c9",
   "metadata": {},
   "outputs": [],
   "source": [
    "#1\n",
    "a='raj'"
   ]
  },
  {
   "cell_type": "code",
   "execution_count": 2,
   "id": "2f40d984-b775-4f79-b384-cf5feada57f7",
   "metadata": {},
   "outputs": [
    {
     "data": {
      "text/plain": [
       "str"
      ]
     },
     "execution_count": 2,
     "metadata": {},
     "output_type": "execute_result"
    }
   ],
   "source": [
    "type(a)"
   ]
  },
  {
   "cell_type": "code",
   "execution_count": null,
   "id": "172b8faa-dd2d-45cb-b632-ef2687cb485a",
   "metadata": {},
   "outputs": [],
   "source": []
  },
  {
   "cell_type": "code",
   "execution_count": null,
   "id": "3fe3b679-bcde-420c-b616-a375853a9cf2",
   "metadata": {},
   "outputs": [],
   "source": []
  },
  {
   "cell_type": "code",
   "execution_count": 3,
   "id": "51a0b70f-5e13-46b6-9af1-655b709c3771",
   "metadata": {},
   "outputs": [],
   "source": [
    "#2\n",
    "x='a'"
   ]
  },
  {
   "cell_type": "code",
   "execution_count": 4,
   "id": "10e86f47-f338-4334-8c36-578b460f749d",
   "metadata": {},
   "outputs": [
    {
     "data": {
      "text/plain": [
       "str"
      ]
     },
     "execution_count": 4,
     "metadata": {},
     "output_type": "execute_result"
    }
   ],
   "source": [
    "type(x)"
   ]
  },
  {
   "cell_type": "code",
   "execution_count": 5,
   "id": "dcbb1d1f-15f2-44b6-b7c5-7c4babf45f04",
   "metadata": {},
   "outputs": [],
   "source": [
    "# x is a string type variable."
   ]
  },
  {
   "cell_type": "code",
   "execution_count": null,
   "id": "0ec52133-c43b-41e0-8b52-31490dd909d2",
   "metadata": {},
   "outputs": [],
   "source": []
  },
  {
   "cell_type": "code",
   "execution_count": 12,
   "id": "c1398516-30df-4a57-9561-e6bfe0d3e413",
   "metadata": {},
   "outputs": [
    {
     "data": {
      "text/plain": [
       "8"
      ]
     },
     "execution_count": 12,
     "metadata": {},
     "output_type": "execute_result"
    }
   ],
   "source": [
    "#3\n",
    "k='welcome to python foundation course '\n",
    "k.find('to')"
   ]
  },
  {
   "cell_type": "code",
   "execution_count": 13,
   "id": "9b4cc193-6ace-47c1-b019-e469c16df420",
   "metadata": {},
   "outputs": [
    {
     "data": {
      "text/plain": [
       "0"
      ]
     },
     "execution_count": 13,
     "metadata": {},
     "output_type": "execute_result"
    }
   ],
   "source": [
    "k.find('welcome')"
   ]
  },
  {
   "cell_type": "code",
   "execution_count": 14,
   "id": "31fb5183-6acb-4324-9641-a6282c6abdbd",
   "metadata": {},
   "outputs": [
    {
     "data": {
      "text/plain": [
       "29"
      ]
     },
     "execution_count": 14,
     "metadata": {},
     "output_type": "execute_result"
    }
   ],
   "source": [
    "k.find('course')"
   ]
  },
  {
   "cell_type": "code",
   "execution_count": 15,
   "id": "091cf801-ca7c-44fe-808a-16c45dad44d8",
   "metadata": {},
   "outputs": [
    {
     "data": {
      "text/plain": [
       "1"
      ]
     },
     "execution_count": 15,
     "metadata": {},
     "output_type": "execute_result"
    }
   ],
   "source": [
    "k.find('e')"
   ]
  },
  {
   "cell_type": "code",
   "execution_count": 18,
   "id": "0b10f38b-ac20-47f8-bd94-f2223740ec39",
   "metadata": {},
   "outputs": [
    {
     "data": {
      "text/plain": [
       "6"
      ]
     },
     "execution_count": 18,
     "metadata": {},
     "output_type": "execute_result"
    }
   ],
   "source": [
    "k.count('o')"
   ]
  },
  {
   "cell_type": "code",
   "execution_count": 19,
   "id": "abd106e5-8758-4534-b779-f1759e2cf0d5",
   "metadata": {},
   "outputs": [
    {
     "data": {
      "text/plain": [
       "0"
      ]
     },
     "execution_count": 19,
     "metadata": {},
     "output_type": "execute_result"
    }
   ],
   "source": [
    "k.count('k')"
   ]
  },
  {
   "cell_type": "code",
   "execution_count": 20,
   "id": "8cd8b147-4098-401e-b1b7-a20b9758feda",
   "metadata": {},
   "outputs": [
    {
     "data": {
      "text/plain": [
       "35"
      ]
     },
     "execution_count": 20,
     "metadata": {},
     "output_type": "execute_result"
    }
   ],
   "source": [
    "len(k)"
   ]
  },
  {
   "cell_type": "code",
   "execution_count": 25,
   "id": "ac944e7d-9805-4354-ba48-a0b1f570f680",
   "metadata": {},
   "outputs": [
    {
     "name": "stdout",
     "output_type": "stream",
     "text": [
      "welcome to python foundation course 2023\n"
     ]
    }
   ],
   "source": [
    "r=print(k+' ' +'2023')"
   ]
  },
  {
   "cell_type": "code",
   "execution_count": null,
   "id": "9c052560-5125-4dd7-a0ad-05bd099539b2",
   "metadata": {},
   "outputs": [],
   "source": []
  },
  {
   "cell_type": "code",
   "execution_count": null,
   "id": "02544595-ffd5-437f-98f5-f22507169b54",
   "metadata": {},
   "outputs": [],
   "source": []
  },
  {
   "cell_type": "code",
   "execution_count": 35,
   "id": "1b7ea156-24b9-4cc8-b5e6-dab7aa3b4de9",
   "metadata": {},
   "outputs": [],
   "source": [
    "#5\n",
    "a=25\n",
    "k=str(a)\n"
   ]
  },
  {
   "cell_type": "code",
   "execution_count": 36,
   "id": "e58fb6d7-d87b-4526-bce1-8743dbcbcafa",
   "metadata": {},
   "outputs": [
    {
     "data": {
      "text/plain": [
       "'25'"
      ]
     },
     "execution_count": 36,
     "metadata": {},
     "output_type": "execute_result"
    }
   ],
   "source": [
    "k"
   ]
  },
  {
   "cell_type": "code",
   "execution_count": 37,
   "id": "74c974b4-6876-4e6e-ab5a-19ca6e642d50",
   "metadata": {},
   "outputs": [
    {
     "data": {
      "text/plain": [
       "str"
      ]
     },
     "execution_count": 37,
     "metadata": {},
     "output_type": "execute_result"
    }
   ],
   "source": [
    "type(k)"
   ]
  },
  {
   "cell_type": "code",
   "execution_count": 38,
   "id": "d05debf2-3246-49b4-8cad-ec7f4c752530",
   "metadata": {},
   "outputs": [],
   "source": [
    "d='Rak'"
   ]
  },
  {
   "cell_type": "code",
   "execution_count": 41,
   "id": "71ec2f15-f476-4c32-bcb6-648dc2653e9c",
   "metadata": {},
   "outputs": [
    {
     "data": {
      "text/plain": [
       "<function str.count>"
      ]
     },
     "execution_count": 41,
     "metadata": {},
     "output_type": "execute_result"
    }
   ],
   "source": []
  },
  {
   "cell_type": "code",
   "execution_count": null,
   "id": "71815137-fa6c-4a0f-88f0-380624a645e7",
   "metadata": {},
   "outputs": [],
   "source": []
  }
 ],
 "metadata": {
  "kernelspec": {
   "display_name": "Python 3 (ipykernel)",
   "language": "python",
   "name": "python3"
  },
  "language_info": {
   "codemirror_mode": {
    "name": "ipython",
    "version": 3
   },
   "file_extension": ".py",
   "mimetype": "text/x-python",
   "name": "python",
   "nbconvert_exporter": "python",
   "pygments_lexer": "ipython3",
   "version": "3.10.8"
  }
 },
 "nbformat": 4,
 "nbformat_minor": 5
}
