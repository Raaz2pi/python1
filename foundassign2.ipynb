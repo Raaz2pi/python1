{
 "cells": [
  {
   "cell_type": "code",
   "execution_count": 1,
   "id": "e7d21b35-eb9c-4ec7-99b4-3e00a9404971",
   "metadata": {},
   "outputs": [],
   "source": [
    "##QTQ How can we store a s1ngle quote (‘) as a str1ng 1n a var1able?\n",
    "t='sudhhh'"
   ]
  },
  {
   "cell_type": "code",
   "execution_count": 6,
   "id": "be26ac3c-c504-4dca-8206-41f645024e76",
   "metadata": {},
   "outputs": [
    {
     "data": {
      "text/plain": [
       "str"
      ]
     },
     "execution_count": 6,
     "metadata": {},
     "output_type": "execute_result"
    }
   ],
   "source": [
    "#Q/Q Refer the below var1able:\n",
    "#x = ‘a'\n",
    "#Here, 1s x a character type or str1ng type var1able? Support your answer w1th an explanat1on.\n",
    "\n",
    "x='a'\n",
    "type(x) #python doesnot have character datatype,so it's a string"
   ]
  },
  {
   "cell_type": "code",
   "execution_count": 11,
   "id": "c0aa1397-2301-41ce-8537-19073576e21c",
   "metadata": {},
   "outputs": [
    {
     "data": {
      "text/plain": [
       "6"
      ]
     },
     "execution_count": 11,
     "metadata": {},
     "output_type": "execute_result"
    }
   ],
   "source": [
    "t='Welcome to Python founat1on course'\n",
    "t.count('o')\n"
   ]
  },
  {
   "cell_type": "code",
   "execution_count": 10,
   "id": "102fcafd-28ab-40e5-99c0-e7c537e6dc97",
   "metadata": {},
   "outputs": [
    {
     "data": {
      "text/plain": [
       "8"
      ]
     },
     "execution_count": 10,
     "metadata": {},
     "output_type": "execute_result"
    }
   ],
   "source": [
    "t.find('to')"
   ]
  },
  {
   "cell_type": "code",
   "execution_count": 16,
   "id": "c05fe1e9-f8dc-48ac-9ff0-3cf55764a8e7",
   "metadata": {},
   "outputs": [
    {
     "data": {
      "text/plain": [
       "34"
      ]
     },
     "execution_count": 16,
     "metadata": {},
     "output_type": "execute_result"
    }
   ],
   "source": [
    "len(t)"
   ]
  },
  {
   "cell_type": "code",
   "execution_count": 17,
   "id": "755fecfc-9d58-432a-b726-8afbc6dfc9b3",
   "metadata": {},
   "outputs": [],
   "source": [
    "j=\"2023\""
   ]
  },
  {
   "cell_type": "code",
   "execution_count": 23,
   "id": "5c25deb4-d1f2-4ca8-8b4a-1229b89a67ab",
   "metadata": {},
   "outputs": [
    {
     "name": "stdout",
     "output_type": "stream",
     "text": [
      "Welcome to Python founat1on course 2023\n"
     ]
    }
   ],
   "source": [
    "print(t+' '+ j) #concatination"
   ]
  },
  {
   "cell_type": "code",
   "execution_count": 33,
   "id": "3ed454c4-1d93-483e-b283-7e388cadb852",
   "metadata": {},
   "outputs": [
    {
     "data": {
      "text/plain": [
       "False"
      ]
     },
     "execution_count": 33,
     "metadata": {},
     "output_type": "execute_result"
    }
   ],
   "source": [
    "word='PanaJi@12256'\n"
   ]
  },
  {
   "cell_type": "code",
   "execution_count": 31,
   "id": "fb5d1567-f1a4-45e4-b77a-6b6e76471b6f",
   "metadata": {},
   "outputs": [
    {
     "name": "stdin",
     "output_type": "stream",
     "text": [
      "enter no 5\n"
     ]
    },
    {
     "name": "stdout",
     "output_type": "stream",
     "text": [
      "5\n"
     ]
    }
   ],
   "source": [
    "a=int(input(\"enter no\"))\n",
    "k=str(a)\n",
    "print(k)"
   ]
  },
  {
   "cell_type": "code",
   "execution_count": 32,
   "id": "ccdff2d7-fbcd-4441-a806-58110dae0d25",
   "metadata": {},
   "outputs": [
    {
     "data": {
      "text/plain": [
       "'5'"
      ]
     },
     "execution_count": 32,
     "metadata": {},
     "output_type": "execute_result"
    }
   ],
   "source": [
    "k"
   ]
  },
  {
   "cell_type": "code",
   "execution_count": 40,
   "id": "701a4ab6-c9c6-465f-9ca6-9d6d66adcbea",
   "metadata": {},
   "outputs": [],
   "source": [
    "word='PanaJi@12256'\n",
    "for i in word:\n",
    "    if i.isupper():\n",
    "        i.count(word)\n",
    "    \n",
    "    "
   ]
  },
  {
   "cell_type": "code",
   "execution_count": 36,
   "id": "e73d8efc-0a4c-43c4-8758-0879dc8d814f",
   "metadata": {},
   "outputs": [
    {
     "data": {
      "text/plain": [
       "True"
      ]
     },
     "execution_count": 36,
     "metadata": {},
     "output_type": "execute_result"
    }
   ],
   "source": [
    "i.isupper()"
   ]
  },
  {
   "cell_type": "code",
   "execution_count": null,
   "id": "8d68e573-f580-4aa3-b97a-406f138399a0",
   "metadata": {},
   "outputs": [],
   "source": []
  }
 ],
 "metadata": {
  "kernelspec": {
   "display_name": "Python 3 (ipykernel)",
   "language": "python",
   "name": "python3"
  },
  "language_info": {
   "codemirror_mode": {
    "name": "ipython",
    "version": 3
   },
   "file_extension": ".py",
   "mimetype": "text/x-python",
   "name": "python",
   "nbconvert_exporter": "python",
   "pygments_lexer": "ipython3",
   "version": "3.10.8"
  }
 },
 "nbformat": 4,
 "nbformat_minor": 5
}
